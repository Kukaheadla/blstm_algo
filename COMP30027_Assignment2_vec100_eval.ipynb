{
 "metadata": {
  "language_info": {
   "codemirror_mode": {
    "name": "ipython",
    "version": 3
   },
   "file_extension": ".py",
   "mimetype": "text/x-python",
   "name": "python",
   "nbconvert_exporter": "python",
   "pygments_lexer": "ipython3",
   "version": "3.7.6"
  },
  "orig_nbformat": 2,
  "kernelspec": {
   "name": "python376jvsc74a57bd0dca0ade3e726a953b501b15e8e990130d2b7799f14cfd9f4271676035ebe5511",
   "display_name": "Python 3.7.6 64-bit ('base': conda)"
  },
  "metadata": {
   "interpreter": {
    "hash": "ac2eaa0ea0ebeafcc7822e65e46aa9d4f966f30b695406963e145ea4a91cd4fc"
   }
  }
 },
 "nbformat": 4,
 "nbformat_minor": 2,
 "cells": [
  {
   "cell_type": "code",
   "execution_count": 26,
   "metadata": {},
   "outputs": [
    {
     "output_type": "stream",
     "name": "stdout",
     "text": [
      "Requirement already satisfied: nbformat in /usr/local/lib/python3.9/site-packages (5.1.3)\n",
      "Requirement already satisfied: jsonschema!=2.5.0,>=2.4 in /usr/local/lib/python3.9/site-packages (from nbformat) (3.2.0)\n",
      "Requirement already satisfied: ipython-genutils in /Users/Yuxuan/Library/Python/3.9/lib/python/site-packages (from nbformat) (0.2.0)\n",
      "Requirement already satisfied: traitlets>=4.1 in /Users/Yuxuan/Library/Python/3.9/lib/python/site-packages (from nbformat) (5.0.5)\n",
      "Requirement already satisfied: jupyter-core in /Users/Yuxuan/Library/Python/3.9/lib/python/site-packages (from nbformat) (4.7.1)\n",
      "Requirement already satisfied: six>=1.11.0 in /usr/local/lib/python3.9/site-packages (from jsonschema!=2.5.0,>=2.4->nbformat) (1.15.0)\n",
      "Requirement already satisfied: setuptools in /usr/local/lib/python3.9/site-packages (from jsonschema!=2.5.0,>=2.4->nbformat) (53.0.0)\n",
      "Requirement already satisfied: attrs>=17.4.0 in /usr/local/lib/python3.9/site-packages (from jsonschema!=2.5.0,>=2.4->nbformat) (21.2.0)\n",
      "Requirement already satisfied: pyrsistent>=0.14.0 in /usr/local/lib/python3.9/site-packages (from jsonschema!=2.5.0,>=2.4->nbformat) (0.17.3)\n",
      "\u001b[33mWARNING: You are using pip version 21.0.1; however, version 21.1.1 is available.\n",
      "You should consider upgrading via the '/usr/local/opt/python@3.9/bin/python3.9 -m pip install --upgrade pip' command.\u001b[0m\n",
      "Note: you may need to restart the kernel to use updated packages.\n"
     ]
    }
   ],
   "source": [
    "pip install --upgrade nbformat"
   ]
  },
  {
   "cell_type": "code",
   "execution_count": 3,
   "metadata": {},
   "outputs": [],
   "source": [
    "import numpy as np\n",
    "import pandas as pd\n",
    "\n",
    "#Original Dataset \n",
    "X_train_original = pd.read_csv(r\"./COMP30027_2021_Project2_datasets/recipe_train.csv\", index_col = False, delimiter = ',', header=0)\n",
    "y_train = X_train_original.duration_label\n",
    "\n",
    "X_train_name = pd.read_csv(r\"./COMP30027_2021_Project2_datasets/recipe_text_features_doc2vec100/train_name_doc2vec100.csv\", \n",
    "            index_col = False, \n",
    "            delimiter = ',', \n",
    "            header=None)\n",
    "\n",
    "# Doc2Vec Datase\n",
    "X_train_steps = pd.read_csv(r\"./COMP30027_2021_Project2_datasets/recipe_text_features_doc2vec100/train_steps_doc2vec100.csv\", \n",
    "            index_col = False, \n",
    "            delimiter = ',', \n",
    "            header=None)\n",
    "            \n",
    "X_train_ingr = pd.read_csv(r\"./COMP30027_2021_Project2_datasets/recipe_text_features_doc2vec100/train_ingr_doc2vec100.csv\", \n",
    "            index_col = False, \n",
    "            delimiter = ',', \n",
    "            header=None)"
   ]
  },
  {
   "cell_type": "code",
   "execution_count": 4,
   "metadata": {},
   "outputs": [],
   "source": [
    "X_test_name = pd.read_csv(r\"./COMP30027_2021_Project2_datasets/recipe_text_features_doc2vec100/test_name_doc2vec100.csv\", \n",
    "            index_col = False, \n",
    "            delimiter = ',', \n",
    "            header=None)\n",
    "\n",
    "# Doc2Vec Datase\n",
    "X_test_steps = pd.read_csv(r\"./COMP30027_2021_Project2_datasets/recipe_text_features_doc2vec100/test_steps_doc2vec100.csv\", \n",
    "            index_col = False, \n",
    "            delimiter = ',', \n",
    "            header=None)\n",
    "            \n",
    "X_test_ingr = pd.read_csv(r\"./COMP30027_2021_Project2_datasets/recipe_text_features_doc2vec100/test_ingr_doc2vec100.csv\", \n",
    "            index_col = False, \n",
    "            delimiter = ',', \n",
    "            header=None)"
   ]
  },
  {
   "cell_type": "code",
   "execution_count": 5,
   "metadata": {},
   "outputs": [],
   "source": [
    "from sklearn import linear_model, naive_bayes\n",
    "from sklearn.preprocessing import LabelEncoder\n",
    "from sklearn.ensemble import RandomForestClassifier\n",
    "from sklearn import linear_model, svm, naive_bayes\n",
    "from sklearn.model_selection import cross_val_score, train_test_split\n",
    "from sklearn.metrics import classification_report\n",
    "\n",
    "import tensorflow as tf \n",
    "import tensorflow.keras.utils as utils\n",
    "from tensorflow.keras.models import Sequential\n",
    "from tensorflow.keras.layers import Dense, Activation, LSTM, Bidirectional\n",
    "\n",
    "from plotly.subplots import make_subplots\n",
    "import plotly.graph_objects as go\n",
    "\n",
    "SEED_NO=0"
   ]
  },
  {
   "source": [
    "## Sequential Model"
   ],
   "cell_type": "markdown",
   "metadata": {}
  },
  {
   "cell_type": "code",
   "execution_count": 6,
   "metadata": {},
   "outputs": [
    {
     "output_type": "stream",
     "name": "stdout",
     "text": [
      "Transformed X_train Dimensions:           (40000, 1, 300)\nOne-hot Encoding Dimensions for y_train:  (40000, 3)\n"
     ]
    }
   ],
   "source": [
    "#Stacking all Vectorized feature and reshape them into  3-D Array\n",
    "X_train_3dim = np.hstack((X_train_ingr, X_train_name, X_train_steps))\n",
    "X_train_3dim = np.reshape(X_train_3dim, (X_train_3dim.shape[0], 1, X_train_3dim.shape[1]))\n",
    "print(\"Transformed X_train Dimensions:          \", X_train_3dim.shape)\n",
    "\n",
    "# One-hot Encoding for Y_train\n",
    "y_train_le = LabelEncoder().fit_transform(y_train)\n",
    "y_train_onehot = utils.to_categorical(y_train_le)\n",
    "print(\"One-hot Encoding Dimensions for y_train: \", y_train_onehot.shape)"
   ]
  },
  {
   "cell_type": "code",
   "execution_count": 7,
   "metadata": {},
   "outputs": [
    {
     "output_type": "stream",
     "name": "stdout",
     "text": [
      "Epoch 1/10\n",
      "250/250 [==============================] - 17s 45ms/step - loss: 0.7790 - accuracy: 0.6191 - val_loss: 0.6566 - val_accuracy: 0.7030\n",
      "Epoch 2/10\n",
      "250/250 [==============================] - 10s 38ms/step - loss: 0.6911 - accuracy: 0.6768 - val_loss: 0.6348 - val_accuracy: 0.7140\n",
      "Epoch 3/10\n",
      "250/250 [==============================] - 10s 39ms/step - loss: 0.6686 - accuracy: 0.6907 - val_loss: 0.6230 - val_accuracy: 0.7220\n",
      "Epoch 4/10\n",
      "250/250 [==============================] - 10s 39ms/step - loss: 0.6519 - accuracy: 0.6976 - val_loss: 0.6113 - val_accuracy: 0.7308\n",
      "Epoch 5/10\n",
      "250/250 [==============================] - 10s 42ms/step - loss: 0.6378 - accuracy: 0.7096 - val_loss: 0.6081 - val_accuracy: 0.7211\n",
      "Epoch 6/10\n",
      "250/250 [==============================] - 10s 40ms/step - loss: 0.6278 - accuracy: 0.7147 - val_loss: 0.6404 - val_accuracy: 0.7144\n",
      "Epoch 7/10\n",
      "250/250 [==============================] - 9s 35ms/step - loss: 0.6120 - accuracy: 0.7220 - val_loss: 0.6167 - val_accuracy: 0.7149\n",
      "Epoch 8/10\n",
      "250/250 [==============================] - 9s 35ms/step - loss: 0.6063 - accuracy: 0.7245 - val_loss: 0.6282 - val_accuracy: 0.7200\n",
      "Epoch 9/10\n",
      "250/250 [==============================] - 8s 33ms/step - loss: 0.5827 - accuracy: 0.7331 - val_loss: 0.6490 - val_accuracy: 0.7264\n",
      "Epoch 10/10\n",
      "250/250 [==============================] - 9s 34ms/step - loss: 0.5784 - accuracy: 0.7379 - val_loss: 0.6208 - val_accuracy: 0.7232\n"
     ]
    }
   ],
   "source": [
    "def Bidirectional_LSTM_clf(X, y, epochs_size, batch_size):\n",
    "    model = Sequential()\n",
    "\n",
    "    #Bidirectional LSTM\n",
    "    model.add(Bidirectional(LSTM(X.shape[2], return_sequences=True, dropout=0.45, input_shape=(1, X.shape[2]))))\n",
    "    model.add(Bidirectional(LSTM(X.shape[2],return_sequences=False, dropout=0.45, input_shape=(1, X.shape[2]))))\n",
    "\n",
    "    #Adding dense layer to implement activation layer \n",
    "    model.add(Dense(X.shape[2], activation='tanh'))\n",
    "    model.add(Dense(X.shape[2]*2, activation='relu'))\n",
    "    model.add(Dense(X.shape[2], activation='relu'))\n",
    "    model.add(Dense(3, activation='softmax')) #Softmax output for 3 corresponding categorical variables\n",
    "\n",
    "    #Implement Loss function w.r.t probabiltiy over possible classes\n",
    "    model.compile(loss='categorical_crossentropy', optimizer='adam', metrics=['accuracy'])\n",
    "    model_history = model.fit(X, y, \n",
    "                            epochs=epochs_size, \n",
    "                            batch_size=batch_size, \n",
    "                            validation_split=0.2, #Only 80% of input data will be trained for diagnostics purposes\n",
    "                            verbose=1)\n",
    "    return model, model_history \n",
    "\n",
    "bi_lstm_model, bi_lstm_model_history = Bidirectional_LSTM_clf(X_train_3dim, y_train_onehot, 10, 128)"
   ]
  },
  {
   "cell_type": "code",
   "execution_count": 8,
   "metadata": {},
   "outputs": [],
   "source": [
    "# bi_lstm_model.summary()\n",
    "# print(\"Bidirectional LSTM Model Training Acccuracy:          {:.4f}\".format(bi_lstm_model_history.history['accuracy'][-1]))\n",
    "# print(\"Bidirectional LSTM Model Cross-Validation Acccuracy:  {:.4f}\".format(bi_lstm_model_history.history['val_accuracy'][-1]))"
   ]
  },
  {
   "cell_type": "code",
   "execution_count": 9,
   "metadata": {},
   "outputs": [],
   "source": [
    "# Plot line for epoch and loss function\n",
    "acc_df = pd.DataFrame(\n",
    "            zip(np.arange(300), \n",
    "                # lstm_model_history.history['accuracy'],  \n",
    "                bi_lstm_model_history.history['accuracy'],\n",
    "                # lstm_model_history.history['val_accuracy'],  \n",
    "                bi_lstm_model_history.history['val_accuracy']\n",
    "                ),\n",
    "            columns=[\"Epoch Iteration\", \n",
    "                    # \"LSTM Model (Training)\", \n",
    "                    \"Bidirectional LSTM Model (Training)\",\n",
    "                    # \"LSTM Model (Cross Validation)\",\n",
    "                    \"Bidirectional LSTM Model (Cross Validation)\",\n",
    "                    ],\n",
    "            )\n",
    "\n",
    "loss_df = pd.DataFrame(\n",
    "            zip(np.arange(300), \n",
    "                # lstm_model_history.history['loss'],  \n",
    "                bi_lstm_model_history.history['loss'],\n",
    "                # lstm_model_history.history['val_loss'],  \n",
    "                bi_lstm_model_history.history['val_loss']\n",
    "                ),\n",
    "            columns=[\"Epoch Iteration\", \n",
    "                    # \"LSTM Model (Training)\", \n",
    "                    \"Bidirectional LSTM Model (Training)\",\n",
    "                    # \"LSTM Model (Cross Validation)\",\n",
    "                    \"Bidirectional LSTM Model (Cross Validation)\",\n",
    "                    ],\n",
    "            )"
   ]
  },
  {
   "cell_type": "code",
   "execution_count": 10,
   "metadata": {},
   "outputs": [
    {
     "output_type": "display_data",
     "data": {
      "application/vnd.plotly.v1+json": {
       "config": {
        "plotlyServerURL": "https://plot.ly"
       },
       "data": [
        {
         "legendgroup": "group2",
         "line": {
          "color": "purple"
         },
         "name": "Bidirectional LSTM Model (Training)",
         "type": "scatter",
         "x": [
          0,
          1,
          2,
          3,
          4,
          5,
          6,
          7,
          8,
          9
         ],
         "xaxis": "x",
         "y": [
          0.6463750004768372,
          0.6781874895095825,
          0.6921250224113464,
          0.699874997138977,
          0.7085624933242798,
          0.7140312790870667,
          0.7200000286102295,
          0.7230937480926514,
          0.7299687266349792,
          0.7325312495231628
         ],
         "yaxis": "y"
        },
        {
         "legendgroup": "group4",
         "line": {
          "color": "red"
         },
         "name": "Bidirectional LSTM Model (Cross Validation)",
         "type": "scatter",
         "x": [
          0,
          1,
          2,
          3,
          4,
          5,
          6,
          7,
          8,
          9
         ],
         "xaxis": "x",
         "y": [
          0.703000009059906,
          0.7139999866485596,
          0.722000002861023,
          0.7307500243186951,
          0.7211250066757202,
          0.7143750190734863,
          0.7148749828338623,
          0.7200000286102295,
          0.7263749837875366,
          0.7232499718666077
         ],
         "yaxis": "y"
        },
        {
         "legendgroup": "group2",
         "line": {
          "color": "purple"
         },
         "name": "Bidirectional LSTM Model (Training)",
         "showlegend": false,
         "type": "scatter",
         "x": [
          0,
          1,
          2,
          3,
          4,
          5,
          6,
          7,
          8,
          9
         ],
         "xaxis": "x2",
         "y": [
          0.738064706325531,
          0.6879581809043884,
          0.6665950417518616,
          0.6480842232704163,
          0.63680100440979,
          0.6279674172401428,
          0.6145220398902893,
          0.6084434390068054,
          0.5946559906005859,
          0.5845533013343811
         ],
         "yaxis": "y2"
        },
        {
         "legendgroup": "group4",
         "line": {
          "color": "red"
         },
         "name": "Bidirectional LSTM Model (Cross Validation)",
         "showlegend": false,
         "type": "scatter",
         "x": [
          0,
          1,
          2,
          3,
          4,
          5,
          6,
          7,
          8,
          9
         ],
         "xaxis": "x2",
         "y": [
          0.6566466689109802,
          0.6348333358764648,
          0.6230115294456482,
          0.6113370656967163,
          0.6081300377845764,
          0.6404180526733398,
          0.6167230606079102,
          0.6282016038894653,
          0.649016261100769,
          0.6208343505859375
         ],
         "yaxis": "y2"
        }
       ],
       "layout": {
        "annotations": [
         {
          "font": {
           "size": 16
          },
          "showarrow": false,
          "text": "Accuracy per Epoch Iteration",
          "x": 0.225,
          "xanchor": "center",
          "xref": "paper",
          "y": 1,
          "yanchor": "bottom",
          "yref": "paper"
         },
         {
          "font": {
           "size": 16
          },
          "showarrow": false,
          "text": "Loss per Epoch Iteration",
          "x": 0.775,
          "xanchor": "center",
          "xref": "paper",
          "y": 1,
          "yanchor": "bottom",
          "yref": "paper"
         }
        ],
        "height": 600,
        "template": {
         "data": {
          "bar": [
           {
            "error_x": {
             "color": "#2a3f5f"
            },
            "error_y": {
             "color": "#2a3f5f"
            },
            "marker": {
             "line": {
              "color": "#E5ECF6",
              "width": 0.5
             }
            },
            "type": "bar"
           }
          ],
          "barpolar": [
           {
            "marker": {
             "line": {
              "color": "#E5ECF6",
              "width": 0.5
             }
            },
            "type": "barpolar"
           }
          ],
          "carpet": [
           {
            "aaxis": {
             "endlinecolor": "#2a3f5f",
             "gridcolor": "white",
             "linecolor": "white",
             "minorgridcolor": "white",
             "startlinecolor": "#2a3f5f"
            },
            "baxis": {
             "endlinecolor": "#2a3f5f",
             "gridcolor": "white",
             "linecolor": "white",
             "minorgridcolor": "white",
             "startlinecolor": "#2a3f5f"
            },
            "type": "carpet"
           }
          ],
          "choropleth": [
           {
            "colorbar": {
             "outlinewidth": 0,
             "ticks": ""
            },
            "type": "choropleth"
           }
          ],
          "contour": [
           {
            "colorbar": {
             "outlinewidth": 0,
             "ticks": ""
            },
            "colorscale": [
             [
              0,
              "#0d0887"
             ],
             [
              0.1111111111111111,
              "#46039f"
             ],
             [
              0.2222222222222222,
              "#7201a8"
             ],
             [
              0.3333333333333333,
              "#9c179e"
             ],
             [
              0.4444444444444444,
              "#bd3786"
             ],
             [
              0.5555555555555556,
              "#d8576b"
             ],
             [
              0.6666666666666666,
              "#ed7953"
             ],
             [
              0.7777777777777778,
              "#fb9f3a"
             ],
             [
              0.8888888888888888,
              "#fdca26"
             ],
             [
              1,
              "#f0f921"
             ]
            ],
            "type": "contour"
           }
          ],
          "contourcarpet": [
           {
            "colorbar": {
             "outlinewidth": 0,
             "ticks": ""
            },
            "type": "contourcarpet"
           }
          ],
          "heatmap": [
           {
            "colorbar": {
             "outlinewidth": 0,
             "ticks": ""
            },
            "colorscale": [
             [
              0,
              "#0d0887"
             ],
             [
              0.1111111111111111,
              "#46039f"
             ],
             [
              0.2222222222222222,
              "#7201a8"
             ],
             [
              0.3333333333333333,
              "#9c179e"
             ],
             [
              0.4444444444444444,
              "#bd3786"
             ],
             [
              0.5555555555555556,
              "#d8576b"
             ],
             [
              0.6666666666666666,
              "#ed7953"
             ],
             [
              0.7777777777777778,
              "#fb9f3a"
             ],
             [
              0.8888888888888888,
              "#fdca26"
             ],
             [
              1,
              "#f0f921"
             ]
            ],
            "type": "heatmap"
           }
          ],
          "heatmapgl": [
           {
            "colorbar": {
             "outlinewidth": 0,
             "ticks": ""
            },
            "colorscale": [
             [
              0,
              "#0d0887"
             ],
             [
              0.1111111111111111,
              "#46039f"
             ],
             [
              0.2222222222222222,
              "#7201a8"
             ],
             [
              0.3333333333333333,
              "#9c179e"
             ],
             [
              0.4444444444444444,
              "#bd3786"
             ],
             [
              0.5555555555555556,
              "#d8576b"
             ],
             [
              0.6666666666666666,
              "#ed7953"
             ],
             [
              0.7777777777777778,
              "#fb9f3a"
             ],
             [
              0.8888888888888888,
              "#fdca26"
             ],
             [
              1,
              "#f0f921"
             ]
            ],
            "type": "heatmapgl"
           }
          ],
          "histogram": [
           {
            "marker": {
             "colorbar": {
              "outlinewidth": 0,
              "ticks": ""
             }
            },
            "type": "histogram"
           }
          ],
          "histogram2d": [
           {
            "colorbar": {
             "outlinewidth": 0,
             "ticks": ""
            },
            "colorscale": [
             [
              0,
              "#0d0887"
             ],
             [
              0.1111111111111111,
              "#46039f"
             ],
             [
              0.2222222222222222,
              "#7201a8"
             ],
             [
              0.3333333333333333,
              "#9c179e"
             ],
             [
              0.4444444444444444,
              "#bd3786"
             ],
             [
              0.5555555555555556,
              "#d8576b"
             ],
             [
              0.6666666666666666,
              "#ed7953"
             ],
             [
              0.7777777777777778,
              "#fb9f3a"
             ],
             [
              0.8888888888888888,
              "#fdca26"
             ],
             [
              1,
              "#f0f921"
             ]
            ],
            "type": "histogram2d"
           }
          ],
          "histogram2dcontour": [
           {
            "colorbar": {
             "outlinewidth": 0,
             "ticks": ""
            },
            "colorscale": [
             [
              0,
              "#0d0887"
             ],
             [
              0.1111111111111111,
              "#46039f"
             ],
             [
              0.2222222222222222,
              "#7201a8"
             ],
             [
              0.3333333333333333,
              "#9c179e"
             ],
             [
              0.4444444444444444,
              "#bd3786"
             ],
             [
              0.5555555555555556,
              "#d8576b"
             ],
             [
              0.6666666666666666,
              "#ed7953"
             ],
             [
              0.7777777777777778,
              "#fb9f3a"
             ],
             [
              0.8888888888888888,
              "#fdca26"
             ],
             [
              1,
              "#f0f921"
             ]
            ],
            "type": "histogram2dcontour"
           }
          ],
          "mesh3d": [
           {
            "colorbar": {
             "outlinewidth": 0,
             "ticks": ""
            },
            "type": "mesh3d"
           }
          ],
          "parcoords": [
           {
            "line": {
             "colorbar": {
              "outlinewidth": 0,
              "ticks": ""
             }
            },
            "type": "parcoords"
           }
          ],
          "pie": [
           {
            "automargin": true,
            "type": "pie"
           }
          ],
          "scatter": [
           {
            "marker": {
             "colorbar": {
              "outlinewidth": 0,
              "ticks": ""
             }
            },
            "type": "scatter"
           }
          ],
          "scatter3d": [
           {
            "line": {
             "colorbar": {
              "outlinewidth": 0,
              "ticks": ""
             }
            },
            "marker": {
             "colorbar": {
              "outlinewidth": 0,
              "ticks": ""
             }
            },
            "type": "scatter3d"
           }
          ],
          "scattercarpet": [
           {
            "marker": {
             "colorbar": {
              "outlinewidth": 0,
              "ticks": ""
             }
            },
            "type": "scattercarpet"
           }
          ],
          "scattergeo": [
           {
            "marker": {
             "colorbar": {
              "outlinewidth": 0,
              "ticks": ""
             }
            },
            "type": "scattergeo"
           }
          ],
          "scattergl": [
           {
            "marker": {
             "colorbar": {
              "outlinewidth": 0,
              "ticks": ""
             }
            },
            "type": "scattergl"
           }
          ],
          "scattermapbox": [
           {
            "marker": {
             "colorbar": {
              "outlinewidth": 0,
              "ticks": ""
             }
            },
            "type": "scattermapbox"
           }
          ],
          "scatterpolar": [
           {
            "marker": {
             "colorbar": {
              "outlinewidth": 0,
              "ticks": ""
             }
            },
            "type": "scatterpolar"
           }
          ],
          "scatterpolargl": [
           {
            "marker": {
             "colorbar": {
              "outlinewidth": 0,
              "ticks": ""
             }
            },
            "type": "scatterpolargl"
           }
          ],
          "scatterternary": [
           {
            "marker": {
             "colorbar": {
              "outlinewidth": 0,
              "ticks": ""
             }
            },
            "type": "scatterternary"
           }
          ],
          "surface": [
           {
            "colorbar": {
             "outlinewidth": 0,
             "ticks": ""
            },
            "colorscale": [
             [
              0,
              "#0d0887"
             ],
             [
              0.1111111111111111,
              "#46039f"
             ],
             [
              0.2222222222222222,
              "#7201a8"
             ],
             [
              0.3333333333333333,
              "#9c179e"
             ],
             [
              0.4444444444444444,
              "#bd3786"
             ],
             [
              0.5555555555555556,
              "#d8576b"
             ],
             [
              0.6666666666666666,
              "#ed7953"
             ],
             [
              0.7777777777777778,
              "#fb9f3a"
             ],
             [
              0.8888888888888888,
              "#fdca26"
             ],
             [
              1,
              "#f0f921"
             ]
            ],
            "type": "surface"
           }
          ],
          "table": [
           {
            "cells": {
             "fill": {
              "color": "#EBF0F8"
             },
             "line": {
              "color": "white"
             }
            },
            "header": {
             "fill": {
              "color": "#C8D4E3"
             },
             "line": {
              "color": "white"
             }
            },
            "type": "table"
           }
          ]
         },
         "layout": {
          "annotationdefaults": {
           "arrowcolor": "#2a3f5f",
           "arrowhead": 0,
           "arrowwidth": 1
          },
          "autotypenumbers": "strict",
          "coloraxis": {
           "colorbar": {
            "outlinewidth": 0,
            "ticks": ""
           }
          },
          "colorscale": {
           "diverging": [
            [
             0,
             "#8e0152"
            ],
            [
             0.1,
             "#c51b7d"
            ],
            [
             0.2,
             "#de77ae"
            ],
            [
             0.3,
             "#f1b6da"
            ],
            [
             0.4,
             "#fde0ef"
            ],
            [
             0.5,
             "#f7f7f7"
            ],
            [
             0.6,
             "#e6f5d0"
            ],
            [
             0.7,
             "#b8e186"
            ],
            [
             0.8,
             "#7fbc41"
            ],
            [
             0.9,
             "#4d9221"
            ],
            [
             1,
             "#276419"
            ]
           ],
           "sequential": [
            [
             0,
             "#0d0887"
            ],
            [
             0.1111111111111111,
             "#46039f"
            ],
            [
             0.2222222222222222,
             "#7201a8"
            ],
            [
             0.3333333333333333,
             "#9c179e"
            ],
            [
             0.4444444444444444,
             "#bd3786"
            ],
            [
             0.5555555555555556,
             "#d8576b"
            ],
            [
             0.6666666666666666,
             "#ed7953"
            ],
            [
             0.7777777777777778,
             "#fb9f3a"
            ],
            [
             0.8888888888888888,
             "#fdca26"
            ],
            [
             1,
             "#f0f921"
            ]
           ],
           "sequentialminus": [
            [
             0,
             "#0d0887"
            ],
            [
             0.1111111111111111,
             "#46039f"
            ],
            [
             0.2222222222222222,
             "#7201a8"
            ],
            [
             0.3333333333333333,
             "#9c179e"
            ],
            [
             0.4444444444444444,
             "#bd3786"
            ],
            [
             0.5555555555555556,
             "#d8576b"
            ],
            [
             0.6666666666666666,
             "#ed7953"
            ],
            [
             0.7777777777777778,
             "#fb9f3a"
            ],
            [
             0.8888888888888888,
             "#fdca26"
            ],
            [
             1,
             "#f0f921"
            ]
           ]
          },
          "colorway": [
           "#636efa",
           "#EF553B",
           "#00cc96",
           "#ab63fa",
           "#FFA15A",
           "#19d3f3",
           "#FF6692",
           "#B6E880",
           "#FF97FF",
           "#FECB52"
          ],
          "font": {
           "color": "#2a3f5f"
          },
          "geo": {
           "bgcolor": "white",
           "lakecolor": "white",
           "landcolor": "#E5ECF6",
           "showlakes": true,
           "showland": true,
           "subunitcolor": "white"
          },
          "hoverlabel": {
           "align": "left"
          },
          "hovermode": "closest",
          "mapbox": {
           "style": "light"
          },
          "paper_bgcolor": "white",
          "plot_bgcolor": "#E5ECF6",
          "polar": {
           "angularaxis": {
            "gridcolor": "white",
            "linecolor": "white",
            "ticks": ""
           },
           "bgcolor": "#E5ECF6",
           "radialaxis": {
            "gridcolor": "white",
            "linecolor": "white",
            "ticks": ""
           }
          },
          "scene": {
           "xaxis": {
            "backgroundcolor": "#E5ECF6",
            "gridcolor": "white",
            "gridwidth": 2,
            "linecolor": "white",
            "showbackground": true,
            "ticks": "",
            "zerolinecolor": "white"
           },
           "yaxis": {
            "backgroundcolor": "#E5ECF6",
            "gridcolor": "white",
            "gridwidth": 2,
            "linecolor": "white",
            "showbackground": true,
            "ticks": "",
            "zerolinecolor": "white"
           },
           "zaxis": {
            "backgroundcolor": "#E5ECF6",
            "gridcolor": "white",
            "gridwidth": 2,
            "linecolor": "white",
            "showbackground": true,
            "ticks": "",
            "zerolinecolor": "white"
           }
          },
          "shapedefaults": {
           "line": {
            "color": "#2a3f5f"
           }
          },
          "ternary": {
           "aaxis": {
            "gridcolor": "white",
            "linecolor": "white",
            "ticks": ""
           },
           "baxis": {
            "gridcolor": "white",
            "linecolor": "white",
            "ticks": ""
           },
           "bgcolor": "#E5ECF6",
           "caxis": {
            "gridcolor": "white",
            "linecolor": "white",
            "ticks": ""
           }
          },
          "title": {
           "x": 0.05
          },
          "xaxis": {
           "automargin": true,
           "gridcolor": "white",
           "linecolor": "white",
           "ticks": "",
           "title": {
            "standoff": 15
           },
           "zerolinecolor": "white",
           "zerolinewidth": 2
          },
          "yaxis": {
           "automargin": true,
           "gridcolor": "white",
           "linecolor": "white",
           "ticks": "",
           "title": {
            "standoff": 15
           },
           "zerolinecolor": "white",
           "zerolinewidth": 2
          }
         }
        },
        "title": {
         "text": "Accuracy & Loss per Epoch Iterations"
        },
        "width": 1000,
        "xaxis": {
         "anchor": "y",
         "domain": [
          0,
          0.45
         ]
        },
        "xaxis2": {
         "anchor": "y2",
         "domain": [
          0.55,
          1
         ]
        },
        "yaxis": {
         "anchor": "x",
         "domain": [
          0,
          1
         ]
        },
        "yaxis2": {
         "anchor": "x2",
         "domain": [
          0,
          1
         ]
        }
       }
      }
     },
     "metadata": {}
    }
   ],
   "source": [
    "fig = make_subplots(rows=1, cols=2,\n",
    "                    subplot_titles=[\"Accuracy per Epoch Iteration\", \"Loss per Epoch Iteration\"])\n",
    "# fig.add_trace(\n",
    "#     go.Scatter(x=acc_df['Epoch Iteration'], y=acc_df[\"LSTM Model (Training)\"], \n",
    "#                 name=\"LSTM Model (Training)\", legendgroup='group1', line_color='deepskyblue'),\n",
    "#     row=1, col=1\n",
    "# )\n",
    "fig.add_trace(\n",
    "    go.Scatter(x=acc_df['Epoch Iteration'], y=acc_df[\"Bidirectional LSTM Model (Training)\"], \n",
    "                name=\"Bidirectional LSTM Model (Training)\", legendgroup='group2', line_color='purple'),\n",
    "    row=1, col=1\n",
    ")\n",
    "# fig.add_trace(\n",
    "#     go.Scatter(x=acc_df['Epoch Iteration'], y=acc_df[\"LSTM Model (Cross Validation)\"], \n",
    "#                 name=\"LSTM Model (Cross Validation)\", legendgroup='group3', line_color='green'),\n",
    "#     row=1, col=1\n",
    "# )\n",
    "fig.add_trace(\n",
    "    go.Scatter(x=acc_df['Epoch Iteration'], y=acc_df[\"Bidirectional LSTM Model (Cross Validation)\"], \n",
    "                name=\"Bidirectional LSTM Model (Cross Validation)\", legendgroup='group4', line_color='red'),\n",
    "    row=1, col=1\n",
    ")\n",
    "\n",
    "# fig.add_trace(\n",
    "#     go.Scatter(x=loss_df['Epoch Iteration'], y=loss_df[\"LSTM Model (Training)\"], \n",
    "#                 name=\"LSTM Model (Training)\", legendgroup='group1', line_color='deepskyblue', showlegend = False),\n",
    "#     row=1, col=2\n",
    "# )\n",
    "\n",
    "fig.add_trace(\n",
    "    go.Scatter(x=loss_df['Epoch Iteration'], y=loss_df[\"Bidirectional LSTM Model (Training)\"], \n",
    "                name=\"Bidirectional LSTM Model (Training)\", legendgroup='group2', line_color='purple', showlegend = False),\n",
    "    row=1, col=2\n",
    ")\n",
    "# fig.add_trace(\n",
    "#     go.Scatter(x=loss_df['Epoch Iteration'], y=loss_df[\"LSTM Model (Cross Validation)\"], \n",
    "#                 name=\"LSTM Model (Cross Validation)\", legendgroup='group3', line_color='green', showlegend = False),\n",
    "#     row=1, col=2\n",
    "# )\n",
    "fig.add_trace(\n",
    "    go.Scatter(x=loss_df['Epoch Iteration'], y=loss_df[\"Bidirectional LSTM Model (Cross Validation)\"], \n",
    "                name=\"Bidirectional LSTM Model (Cross Validation)\", legendgroup='group4', line_color='red', showlegend = False), \n",
    "    row=1, col=2\n",
    ")\n",
    "\n",
    "\n",
    "fig.update_layout(height=600, width=1000, title_text=\"Accuracy & Loss per Epoch Iterations\")\n",
    "fig.show()"
   ]
  },
  {
   "cell_type": "code",
   "execution_count": 11,
   "metadata": {},
   "outputs": [
    {
     "output_type": "stream",
     "name": "stdout",
     "text": [
      "--- \n",
      "Multi-class Logistic Regression \n",
      "Multinomial Logistic Regression Accuracy: 0.62045\n",
      "--- \n",
      "Multinomial Naive Bayes\n",
      "Multinomial NB Accuracy 0.5743916666666666\n"
     ]
    }
   ],
   "source": [
    "y_train = X_train_original.duration_label\n",
    "\n",
    "# Modelling Linear Classifier to be used within benchmarks\n",
    "print(\"--- \\nMulti-class Logistic Regression \")\n",
    "LR_clf = linear_model.LogisticRegression(random_state=SEED_NO,\n",
    "                                         C=0.9, \n",
    "                                         max_iter = 50000,\n",
    "                                         multi_class='multinomial')\n",
    "\n",
    "# Compute Cross_validation score usign 5-fold and average the accuracy for each CSV files (parallel processing)\n",
    "LR_accuracy = (cross_val_score(LR_clf, X_train_name, y_train, cv=5).mean() + \\\n",
    "        cross_val_score(LR_clf, X_train_steps, y_train, cv=5).mean() + \\\n",
    "        cross_val_score(LR_clf, X_train_ingr, y_train, cv=5).mean()) / 3\n",
    "print(\"Multinomial Logistic Regression Accuracy:\", LR_accuracy)\n",
    "\n",
    "print(\"--- \\nMultinomial Naive Bayes\")\n",
    "NB_clf = naive_bayes.GaussianNB()\n",
    "NB_accuracy = (cross_val_score(NB_clf, X_train_name, y_train, cv=5).mean() + \\\n",
    "        cross_val_score(NB_clf, X_train_steps, y_train, cv=5).mean() + \\\n",
    "        cross_val_score(NB_clf, X_train_ingr, y_train, cv=5).mean()) / 3\n",
    "print(\"Multinomial NB Accuracy\", NB_accuracy)"
   ]
  },
  {
   "cell_type": "code",
   "execution_count": 12,
   "metadata": {},
   "outputs": [
    {
     "output_type": "stream",
     "name": "stdout",
     "text": [
      "Transformed X_train Dimensions:           (28000, 1, 300)\n",
      "One-hot Encoding Dimensions for y_train:  (28000, 3)\n",
      "Epoch 1/10\n",
      "175/175 [==============================] - 12s 44ms/step - loss: 0.8113 - accuracy: 0.5998 - val_loss: 0.6917 - val_accuracy: 0.6761\n",
      "Epoch 2/10\n",
      "175/175 [==============================] - 6s 36ms/step - loss: 0.7029 - accuracy: 0.6716 - val_loss: 0.6387 - val_accuracy: 0.7154\n",
      "Epoch 3/10\n",
      "175/175 [==============================] - 6s 35ms/step - loss: 0.6741 - accuracy: 0.6842 - val_loss: 0.6526 - val_accuracy: 0.6907\n",
      "Epoch 4/10\n",
      "175/175 [==============================] - 6s 35ms/step - loss: 0.6634 - accuracy: 0.6943 - val_loss: 0.6420 - val_accuracy: 0.6993\n",
      "Epoch 5/10\n",
      "175/175 [==============================] - 6s 34ms/step - loss: 0.6412 - accuracy: 0.7080 - val_loss: 0.6185 - val_accuracy: 0.7232\n",
      "Epoch 6/10\n",
      "175/175 [==============================] - 6s 33ms/step - loss: 0.6333 - accuracy: 0.7129 - val_loss: 0.6121 - val_accuracy: 0.7166\n",
      "Epoch 7/10\n",
      "175/175 [==============================] - 6s 34ms/step - loss: 0.6145 - accuracy: 0.7197 - val_loss: 0.6273 - val_accuracy: 0.7077\n",
      "Epoch 8/10\n",
      "175/175 [==============================] - 6s 35ms/step - loss: 0.5929 - accuracy: 0.7323 - val_loss: 0.6331 - val_accuracy: 0.7004\n",
      "Epoch 9/10\n",
      "175/175 [==============================] - 6s 35ms/step - loss: 0.5883 - accuracy: 0.7370 - val_loss: 0.6214 - val_accuracy: 0.7141\n",
      "Epoch 10/10\n",
      "175/175 [==============================] - 6s 34ms/step - loss: 0.5894 - accuracy: 0.7322 - val_loss: 0.6399 - val_accuracy: 0.7075\n"
     ]
    }
   ],
   "source": [
    "target_names =['1.0', '2.0', '3.0']\n",
    "\n",
    "X_train = pd.concat([X_train_name, X_train_steps, X_train_ingr], axis=1)\n",
    "\n",
    "#Split the data to test for LSTM accuracy \n",
    "X_train_lstm, X_test_lstm, y_train_lstm, y_test_lstm = train_test_split(X_train, y_train, test_size=0.3, random_state=SEED_NO)\n",
    "\n",
    "# #Stacking all Vectorized feature and reshape them into  3-D Array\n",
    "X_train_3dim = np.reshape(np.array(X_train_lstm), newshape=(X_train_lstm.shape[0], 1, X_train_lstm.shape[1]))\n",
    "X_test_3dim = np.reshape(np.array(X_test_lstm), newshape=(X_test_lstm.shape[0], 1, X_test_lstm.shape[1]))\n",
    "print(\"Transformed X_train Dimensions:          \", X_train_3dim.shape)\n",
    "\n",
    "# One-hot Encoding for Y_train\n",
    "y_train_le = LabelEncoder().fit_transform(y_train_lstm)\n",
    "y_train_onehot = utils.to_categorical(y_train_le)\n",
    "print(\"One-hot Encoding Dimensions for y_train: \", y_train_onehot.shape)\n",
    "\n",
    "bi_lstm_model, bi_lstm_model_history = Bidirectional_LSTM_clf(X_train_3dim, y_train_onehot, 10, 128)"
   ]
  },
  {
   "cell_type": "code",
   "execution_count": 13,
   "metadata": {},
   "outputs": [
    {
     "output_type": "stream",
     "name": "stdout",
     "text": [
      "------- Bidirectional LSTM Classifier Report -------\n",
      "              precision    recall  f1-score   support\n",
      "\n",
      "         1.0     0.6486    0.8493    0.7355      5283\n",
      "         2.0     0.7974    0.6205    0.6979      6110\n",
      "         3.0     0.6433    0.3476    0.4513       607\n",
      "\n",
      "    accuracy                         0.7074     12000\n",
      "   macro avg     0.6964    0.6058    0.6283     12000\n",
      "weighted avg     0.7241    0.7074    0.7020     12000\n",
      "\n"
     ]
    }
   ],
   "source": [
    "print(\"------- Bidirectional LSTM Classifier Report -------\")\n",
    "y_pred_BLSTM = np.array(list(map(lambda x: float(x+1), # Increment output to match category as np.argmax return position of one-hot array\n",
    "                        np.argmax(bi_lstm_model.predict(X_test_3dim), axis=-1))))\n",
    "print(classification_report(y_test_lstm.astype(str), y_pred_BLSTM.astype(str), target_names=target_names, digits=4))"
   ]
  },
  {
   "source": [
    "## Exporting files to CSV "
   ],
   "cell_type": "markdown",
   "metadata": {}
  },
  {
   "cell_type": "code",
   "execution_count": 14,
   "metadata": {},
   "outputs": [],
   "source": [
    "def export_pred_to_csv(y_pred, fname):\n",
    "    pd.DataFrame(zip(np.arange(1, len(y_pred)+1), y_pred), columns=[\"id\", \"duration_label\"]).to_csv(\"{}\".format(fname), header=True, index=False)"
   ]
  },
  {
   "cell_type": "code",
   "execution_count": 15,
   "metadata": {},
   "outputs": [],
   "source": [
    "# Modelling Linear Classifier to be used within benchmarks\n",
    "NB_clf = naive_bayes.GaussianNB()\n",
    "\n",
    "# Fit the model and name \n",
    "NB_clf.fit(X_train_name, y_train)\n",
    "y_pred_name = NB_clf.predict(X_test_name)\n",
    "\n",
    "# Fit the model and predict steps\n",
    "NB_clf.fit(X_train_steps, y_train)\n",
    "y_pred_steps = NB_clf.predict(X_test_steps)\n",
    "\n",
    "# Fit the model and predict ingredietns \n",
    "NB_clf.fit(X_train_ingr, y_train)\n",
    "y_pred_ingr = NB_clf.predict(X_test_ingr)\n",
    "\n",
    "# Package the prediction \n",
    "y_pred_NB_pool = pd.DataFrame({\"name\": y_pred_name, \"steps\": y_pred_steps, \"ingr\": y_pred_ingr})\n",
    "y_pred_NB_pool = y_pred_NB_pool.mode(axis=1)[0]"
   ]
  },
  {
   "cell_type": "code",
   "execution_count": 16,
   "metadata": {},
   "outputs": [],
   "source": [
    "# Modelling Linear Classifier to be used within benchmarks\n",
    "LR_clf = linear_model.LogisticRegression(random_state=SEED_NO,\n",
    "                                         C=0.9, \n",
    "                                         max_iter = 50000,\n",
    "                                         multi_class='multinomial')\n",
    "# Fit the model and name \n",
    "LR_clf.fit(X_train_name, y_train)\n",
    "y_pred_name = LR_clf.predict(X_test_name)\n",
    "\n",
    "# Fit the model and predict steps\n",
    "LR_clf.fit(X_train_steps, y_train)\n",
    "y_pred_steps = LR_clf.predict(X_test_steps)\n",
    "\n",
    "# Fit the model and predict ingredietns \n",
    "LR_clf.fit(X_train_ingr, y_train)\n",
    "y_pred_ingr = LR_clf.predict(X_test_ingr)\n",
    "\n",
    "# Package the prediction \n",
    "y_pred_LR_pool = pd.DataFrame({\"name\": y_pred_name, \"steps\": y_pred_steps, \"ingr\": y_pred_ingr})\n",
    "y_pred_LR_pool = y_pred_LR_pool.mode(axis=1)[0]"
   ]
  },
  {
   "cell_type": "code",
   "execution_count": 17,
   "metadata": {},
   "outputs": [
    {
     "output_type": "stream",
     "name": "stdout",
     "text": [
      "Transformed X_train Dimensions:           (40000, 1, 300)\nOne-hot Encoding Dimensions for y_train:  (40000, 3)\n"
     ]
    }
   ],
   "source": [
    "#Stacking all Vectorized feature and reshape them into  3-D Array\n",
    "X_train_3dim = np.hstack((X_train_ingr, X_train_name, X_train_steps))\n",
    "X_train_3dim = np.reshape(X_train_3dim, (X_train_3dim.shape[0], 1, X_train_3dim.shape[1]))\n",
    "print(\"Transformed X_train Dimensions:          \", X_train_3dim.shape)\n",
    "\n",
    "# One-hot Encoding for Y_train\n",
    "y_train_le = LabelEncoder().fit_transform(y_train)\n",
    "y_train_onehot = utils.to_categorical(y_train_le)\n",
    "print(\"One-hot Encoding Dimensions for y_train: \", y_train_onehot.shape)"
   ]
  },
  {
   "cell_type": "code",
   "execution_count": 18,
   "metadata": {},
   "outputs": [
    {
     "output_type": "stream",
     "name": "stdout",
     "text": [
      "------- Bidirectional LSTM Classifier Report -------\n",
      "              precision    recall  f1-score   support\n",
      "\n",
      "         1.0     0.6486    0.8493    0.7355      5283\n",
      "         2.0     0.7974    0.6205    0.6979      6110\n",
      "         3.0     0.6433    0.3476    0.4513       607\n",
      "\n",
      "    accuracy                         0.7074     12000\n",
      "   macro avg     0.6964    0.6058    0.6283     12000\n",
      "weighted avg     0.7241    0.7074    0.7020     12000\n",
      "\n"
     ]
    }
   ],
   "source": [
    "print(\"------- Bidirectional LSTM Classifier Report -------\")\n",
    "y_pred_BLSTM = np.array(list(map(lambda x: float(x+1), # Increment output to match category as np.argmax return position of one-hot array\n",
    "                        np.argmax(bi_lstm_model.predict(X_test_3dim), axis=-1))))\n",
    "print(classification_report(y_test_lstm.astype(str), y_pred_BLSTM.astype(str), target_names=target_names, digits=4))"
   ]
  },
  {
   "cell_type": "code",
   "execution_count": 19,
   "metadata": {},
   "outputs": [],
   "source": [
    "export_pred_to_csv(y_pred_BLSTM, \"BLSTM_y_pred_vec100.csv\")\n",
    "export_pred_to_csv(y_pred_NB_pool, \"NB_y_pred_vec100.csv\")\n",
    "export_pred_to_csv(y_pred_LR_pool, \"LR_y_pred_vec100.csv\")"
   ]
  }
 ]
}